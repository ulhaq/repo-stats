{
 "cells": [
  {
   "cell_type": "markdown",
   "metadata": {},
   "source": [
    "This is a solution to exercise 9."
   ]
  },
  {
   "cell_type": "code",
   "execution_count": 1,
   "metadata": {},
   "outputs": [],
   "source": [
    "%matplotlib inline\n",
    "import requests\n",
    "import matplotlib.pyplot as plt"
   ]
  },
  {
   "cell_type": "markdown",
   "metadata": {},
   "source": [
    "# Task 1"
   ]
  },
  {
   "cell_type": "markdown",
   "metadata": {},
   "source": [
    "This will list all (names) of the GitHub repositories."
   ]
  },
  {
   "cell_type": "code",
   "execution_count": 2,
   "metadata": {
    "scrolled": false
   },
   "outputs": [
    {
     "name": "stdout",
     "output_type": "stream",
     "text": [
      "aftalt\n",
      "csv-excel\n",
      "data-plotting\n",
      "facebook-networkx\n",
      "java-bowling-algorithm\n",
      "laravel-aftalt\n",
      "pandas-statistics\n",
      "php-bowling-algorithm\n",
      "python-numpy\n",
      "simple-flask-app\n",
      "simple-selenium\n",
      "simple-user-roles-rest-api\n",
      "statistics\n",
      "team-organiser\n"
     ]
    }
   ],
   "source": [
    "url = \"https://api.github.com/\"\n",
    "\n",
    "r = requests.get(url = url+\"users/ulhaq/repos\")\n",
    "\n",
    "rs = r.json()\n",
    "\n",
    "for i in rs:\n",
    "    print(i['name'])\n"
   ]
  },
  {
   "cell_type": "markdown",
   "metadata": {},
   "source": [
    "# Task 2"
   ]
  },
  {
   "cell_type": "markdown",
   "metadata": {},
   "source": [
    "This will sort the list by the repository size in descending order."
   ]
  },
  {
   "cell_type": "code",
   "execution_count": 3,
   "metadata": {},
   "outputs": [
    {
     "data": {
      "text/plain": [
       "[('csv-excel', 7002),\n",
       " ('python-numpy', 1874),\n",
       " ('data-plotting', 1207),\n",
       " ('php-bowling-algorithm', 1095),\n",
       " ('facebook-networkx', 635),\n",
       " ('pandas-statistics', 347),\n",
       " ('aftalt', 228),\n",
       " ('team-organiser', 216),\n",
       " ('simple-user-roles-rest-api', 203),\n",
       " ('simple-flask-app', 120),\n",
       " ('laravel-aftalt', 115),\n",
       " ('statistics', 4),\n",
       " ('simple-selenium', 3),\n",
       " ('java-bowling-algorithm', 1)]"
      ]
     },
     "execution_count": 3,
     "metadata": {},
     "output_type": "execute_result"
    }
   ],
   "source": [
    "repos = {}\n",
    "\n",
    "for i in rs:\n",
    "    repos[i['name']] = i['size']\n",
    "\n",
    "sorted(repos.items(), key = lambda x: -x[1])"
   ]
  },
  {
   "cell_type": "markdown",
   "metadata": {},
   "source": [
    "# Task 3"
   ]
  },
  {
   "cell_type": "markdown",
   "metadata": {},
   "source": [
    "This will make a visualisation of all the languages used for all the projects."
   ]
  },
  {
   "cell_type": "code",
   "execution_count": 4,
   "metadata": {
    "scrolled": false
   },
   "outputs": [
    {
     "data": {
      "image/png": "[encoded data removed]",
      "text/plain": [
       "<Figure size 432x288 with 1 Axes>"
      ]
     },
     "metadata": {},
     "output_type": "display_data"
    }
   ],
   "source": [
    "lang = {}\n",
    "\n",
    "for i in rs:\n",
    "    if i['language'] in lang:\n",
    "        lang[i['language']] += 1\n",
    "\n",
    "    if not i['language'] in lang:\n",
    "        lang[i['language']] = 1\n",
    "\n",
    "explode = tuple(0.03 for i in range(len(lang)))\n",
    "\n",
    "plt.pie(lang.values(), labels=lang.keys(), explode=explode, autopct='%1.1f%%', startangle=90)\n",
    "plt.show()"
   ]
  }
 ],
 "metadata": {
  "kernelspec": {
   "display_name": "Python 3",
   "language": "python",
   "name": "python3"
  },
  "language_info": {
   "codemirror_mode": {
    "name": "ipython",
    "version": 3
   },
   "file_extension": ".py",
   "mimetype": "text/x-python",
   "name": "python",
   "nbconvert_exporter": "python",
   "pygments_lexer": "ipython3",
   "version": "3.6.7"
  }
 },
 "nbformat": 4,
 "nbformat_minor": 2
}
